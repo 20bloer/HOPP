{
 "cells": [
  {
   "cell_type": "markdown",
   "metadata": {},
   "source": [
    "# Perform a LCOH analysis for an offshore wind + Hydrogen PEM system"
   ]
  },
  {
   "cell_type": "markdown",
   "metadata": {},
   "source": [
    "### Missing Functionality:\n",
    "- Offshore wind site locations and cost details (4 sites, $1300/kw capex + BOS cost which will come from Orbit Runs)\n",
    "- Cost Scaling Based on Year (Have Weiser et. al report with cost scaling for fixed and floating tech, will implement)\n",
    "- Cost Scaling Based on Plant Size (Shields et. Al report)\n",
    "- + Pressure Vessel Model\n",
    "- + HVDC Model\n",
    "- + Pipeline Model\n",
    "- + Floating Electrolyzer Platform??"
   ]
  },
  {
   "cell_type": "markdown",
   "metadata": {},
   "source": [
    "### Load necessary modules"
   ]
  },
  {
   "cell_type": "code",
   "execution_count": 1,
   "metadata": {},
   "outputs": [
    {
     "name": "stdout",
     "output_type": "stream",
     "text": [
      "/Users/abarker/Desktop/Hybrid Model/Code/HOPP_Private/log/hybrid_systems_2022-05-31T14.33.53.825312.log\n"
     ]
    }
   ],
   "source": [
    "%load_ext autoreload\n",
    "%autoreload 2\n",
    "# %matplotlib notebook\n",
    "import os\n",
    "import sys\n",
    "sys.path.append('')\n",
    "from dotenv import load_dotenv\n",
    "import pandas as pd\n",
    "import json\n",
    "from hybrid.sites import SiteInfo\n",
    "from hybrid.sites import flatirons_site as sample_site\n",
    "from hybrid.keys import set_developer_nrel_gov_key\n",
    "# from plot_reopt_results import plot_reopt_results\n",
    "# from run_reopt import run_reopt\n",
    "from examples.H2_Analysis.hopp_for_h2 import hopp_for_h2\n",
    "from examples.H2_Analysis.run_h2a import run_h2a as run_h2a\n",
    "from examples.H2_Analysis.simple_dispatch import SimpleDispatch\n",
    "import examples.H2_Analysis.run_h2_PEM as run_h2_PEM\n",
    "import numpy as np\n",
    "import numpy_financial as npf\n",
    "from lcoe.lcoe import lcoe as lcoe_calc\n",
    "import matplotlib.pyplot as plt\n",
    "import warnings\n",
    "from pathlib import Path\n",
    "warnings.filterwarnings(\"ignore\")"
   ]
  },
  {
   "cell_type": "markdown",
   "metadata": {},
   "source": [
    "### Set API key"
   ]
  },
  {
   "cell_type": "code",
   "execution_count": 68,
   "metadata": {},
   "outputs": [],
   "source": [
    "load_dotenv()\n",
    "NREL_API_KEY = os.getenv(\"NREL_API_KEY\")\n",
    "set_developer_nrel_gov_key(NREL_API_KEY)  # Set this key manually here if you are not setting it using the .env\n"
   ]
  },
  {
   "cell_type": "markdown",
   "metadata": {},
   "source": [
    "### Create output dictionary"
   ]
  },
  {
   "cell_type": "code",
   "execution_count": 3,
   "metadata": {},
   "outputs": [],
   "source": [
    "def establish_save_output_dict():\n",
    "    \"\"\"\n",
    "    Establishes and returns a 'save_outputs_dict' dict\n",
    "    for saving the relevant analysis variables for each site.\n",
    "    \"\"\"\n",
    "\n",
    "    save_outputs_dict = dict()\n",
    "    save_outputs_dict['Site Name'] = list()\n",
    "    save_outputs_dict['Scenario Choice'] = list()\n",
    "    save_outputs_dict['Site Lat'] = list()\n",
    "    save_outputs_dict['Site Lon'] = list()\n",
    "    save_outputs_dict['ATB Year'] = list()\n",
    "    save_outputs_dict['Resource Year'] = list()\n",
    "    save_outputs_dict['Critical Load Factor'] = list()\n",
    "    save_outputs_dict['kW continuous load'] = list()\n",
    "    save_outputs_dict['Useful Life'] = list()\n",
    "    save_outputs_dict['PTC'] = list()\n",
    "    save_outputs_dict['ITC'] = list()\n",
    "    save_outputs_dict['Discount Rate'] = list()\n",
    "    save_outputs_dict['Debt Equity'] = list()\n",
    "    save_outputs_dict['Hub Height (m)'] = list()\n",
    "    save_outputs_dict['Storage Enabled'] = list()\n",
    "    save_outputs_dict['Wind Cost kW'] = list()\n",
    "    save_outputs_dict['Solar Cost kW'] = list()\n",
    "    save_outputs_dict['Storage Cost kW'] = list()\n",
    "    save_outputs_dict['Storage Cost kWh'] = list()\n",
    "    save_outputs_dict['Storage Hours'] = list()\n",
    "    save_outputs_dict['Wind MW built'] = list()\n",
    "    save_outputs_dict['Solar MW built'] = list()\n",
    "    save_outputs_dict['Storage MW built'] = list()\n",
    "    save_outputs_dict['Storage MWh built'] = list()\n",
    "    save_outputs_dict['Electrolyzer Size'] = list()\n",
    "    save_outputs_dict['Electrolyzer Total System Size'] = list()\n",
    "    save_outputs_dict['Battery Can Grid Charge'] = list()\n",
    "    save_outputs_dict['Grid Connected HOPP'] = list()\n",
    "    save_outputs_dict['Built Interconnection Size'] = list()\n",
    "    save_outputs_dict['Total Installed Cost $(HOPP)'] = list()\n",
    "    save_outputs_dict['Total Yearly Electrical Output'] = list()\n",
    "    save_outputs_dict['LCOE'] = list()\n",
    "    save_outputs_dict['Total Annual H2 production (kg)'] = list()\n",
    "    save_outputs_dict['Gut-Check Cost/kg H2 (non-levelized, includes elec if used)'] = list()\n",
    "    save_outputs_dict['Levelized Cost/kg H2 (lcoe using installed and operation costs)'] = list()\n",
    "    save_outputs_dict['Levelized Cost/kg H2 (CF Method - using annual cashflows per technology)'] = list()\n",
    "    save_outputs_dict['H2A scaled total install cost'] = list()\n",
    "    save_outputs_dict['H2A scaled total install cost per kw'] = list()\n",
    "    save_outputs_dict['HOPP Total Generation'] = list()\n",
    "    save_outputs_dict['Wind Capacity Factor'] = list()\n",
    "    save_outputs_dict['HOPP Energy Shortfall'] = list()\n",
    "    save_outputs_dict['HOPP Curtailment'] = list()\n",
    "    save_outputs_dict['Battery Generation'] = list()\n",
    "    save_outputs_dict['Electricity to Grid'] = list()\n",
    "    \n",
    "    return save_outputs_dict"
   ]
  },
  {
   "cell_type": "markdown",
   "metadata": {},
   "source": [
    "# Step 1: Establish output structure and special inputs"
   ]
  },
  {
   "cell_type": "code",
   "execution_count": 4,
   "metadata": {},
   "outputs": [],
   "source": [
    "# save_all_runs = pd.DataFrame()\n",
    "save_outputs_dict = establish_save_output_dict()\n",
    "resource_year = 2013\n",
    "sample_site['year'] = resource_year\n",
    "useful_life = 30\n",
    "critical_load_factor = 1\n",
    "run_reopt_flag = False\n",
    "custom_powercurve = True\n",
    "storage_used = True\n",
    "battery_can_grid_charge = False\n",
    "grid_connected_hopp = False\n",
    "interconnection_size_mw = 100\n",
    "electrolyzer_size = 100\n",
    "fixed_or_floating_wind = 'fixed' #floating\n",
    "\n",
    "# which plots to show\n",
    "plot_power_production = True\n",
    "plot_battery = True\n",
    "plot_grid = True\n",
    "plot_h2 = True\n",
    "turbine_name = '2020ATB_15MW'\n",
    "\n",
    "if turbine_name == '2020ATB_12MW':\n",
    "    custom_powercurve_path = '2020ATB_NREL_Reference_12MW_214.csv' # https://nrel.github.io/turbine-models/2020ATB_NREL_Reference_12MW_214.html\n",
    "    tower_height = 136\n",
    "    rotor_diameter = 214\n",
    "    turbine_rating_mw = 12\n",
    "    wind_cost_kw = 1001\n",
    "    wind_bos_cost_kw = 500\n",
    "elif turbine_name == '2020ATB_15MW':\n",
    "    custom_powercurve_path = '2020ATB_NREL_Reference_15MW_240.csv' # https://nrel.github.io/turbine-models/2020ATB_NREL_Reference_15MW_240.html\n",
    "    tower_height = 150\n",
    "    rotor_diameter = 240\n",
    "    turbine_rating_mw = 15\n",
    "    wind_cost_kw = 1002\n",
    "    wind_bos_cost_kw = 400\n",
    "elif turbine_name == '2020ATB_18MW':\n",
    "    custom_powercurve_path = '2020ATB_NREL_Reference_18MW_263.csv' # https://nrel.github.io/turbine-models/2020ATB_NREL_Reference_18MW_263.html\n",
    "    tower_height = 156\n",
    "    rotor_diameter = 263\n",
    "    turbine_rating_mw = 18\n",
    "    wind_cost_kw = 1003\n",
    "    wind_bost_cost_kw = 300"
   ]
  },
  {
   "cell_type": "markdown",
   "metadata": {},
   "source": [
    "# ~~Step 2a: Load scenarios from .csv and enumerate~~"
   ]
  },
  {
   "cell_type": "code",
   "execution_count": 5,
   "metadata": {},
   "outputs": [],
   "source": [
    "# # Setting all scenario inputs manuall for now\n",
    "\n",
    "# # parent_path = os.path.abspath('')\n",
    "# # print(parent_path)\n",
    "# # scenarios_df = pd.read_csv(os.path.join(parent_path,'examples/H2_Analysis/osw_h2_scenario.csv'))\n",
    "\n",
    "# for i, scenario in scenarios_df.iterrows():\n",
    "#     kw_continuous = electrolyzer_size * 1000\n",
    "#     load = [kw_continuous for x in\n",
    "#             range(0, 8760)]  # * (sin(x) + pi) Set desired/required load profile for plant\n",
    "\n",
    "#     scenario_choice = scenario['Scenario Name']\n",
    "#     site_name = scenario['Site Name']\n",
    "#     sample_site['lat'] = scenario['Lat']\n",
    "#     sample_site['lon'] = scenario['Long']\n",
    "#     lat = scenario['Lat']\n",
    "#     lon = scenario['Long']\n",
    "#     atb_year = scenario['ATB Year']\n",
    "#     ptc_avail = scenario['PTC Available']\n",
    "#     itc_avail = scenario['ITC Available']\n",
    "#     forced_sizes = scenario['Force Plant Size']\n",
    "#     force_electrolyzer_cost = scenario['Force Electrolyzer Cost']\n",
    "#     if forced_sizes:\n",
    "#         forced_wind_size = scenario['Wind Size MW']\n",
    "#         forced_solar_size = scenario['Solar Size MW']\n",
    "#         forced_storage_size_mw = scenario['Storage Size MW']\n",
    "#         forced_storage_size_mwh = scenario['Storage Size MWh']\n",
    "#     else:\n",
    "#         print(\"Using ReOPT for sizing. REopt will be turned on and may not find a solution\")\n",
    "#         run_reopt_flag = True\n",
    "\n",
    "#     if force_electrolyzer_cost:\n",
    "#         forced_electrolyzer_cost = scenario['Electrolyzer Cost KW']\n",
    "\n",
    "#     wind_cost_kw = scenario['Wind Cost KW']\n",
    "#     solar_cost_kw = scenario['Solar Cost KW']\n",
    "#     storage_cost_kw = scenario['Storage Cost KW']\n",
    "#     storage_cost_kwh = scenario['Storage Cost KWh']\n",
    "#     debt_equity_split = scenario['Debt Equity']\n",
    "\n",
    "#     buy_price = scenario['Buy From Grid ($/kWh)']\n",
    "#     sell_price = scenario['Sell To Grid ($/kWh)']\n",
    "\n",
    "#     #Todo: Add useful life to .csv scenario input instead\n",
    "#     scenario['Useful Life'] = useful_life\n",
    "\n",
    "#     site = SiteInfo(sample_site, hub_height=tower_height)\n",
    "# # scenarios_df"
   ]
  },
  {
   "cell_type": "markdown",
   "metadata": {},
   "source": [
    "# Step 2b: Set Scenario Details Manually"
   ]
  },
  {
   "cell_type": "code",
   "execution_count": 70,
   "metadata": {},
   "outputs": [
    {
     "name": "stdout",
     "output_type": "stream",
     "text": [
      "['Sheet1']\n",
      "Powercurve Path:  2020ATB_NREL_Reference_15MW_240.csv\n"
     ]
    },
    {
     "data": {
      "text/html": [
       "<div>\n",
       "<style scoped>\n",
       "    .dataframe tbody tr th:only-of-type {\n",
       "        vertical-align: middle;\n",
       "    }\n",
       "\n",
       "    .dataframe tbody tr th {\n",
       "        vertical-align: top;\n",
       "    }\n",
       "\n",
       "    .dataframe thead th {\n",
       "        text-align: right;\n",
       "    }\n",
       "</style>\n",
       "<table border=\"1\" class=\"dataframe\">\n",
       "  <thead>\n",
       "    <tr style=\"text-align: right;\">\n",
       "      <th></th>\n",
       "      <th>Site 1</th>\n",
       "      <th>Site 2</th>\n",
       "      <th>Site 3</th>\n",
       "      <th>Site 4</th>\n",
       "      <th>Notes</th>\n",
       "    </tr>\n",
       "    <tr>\n",
       "      <th>Parameter</th>\n",
       "      <th></th>\n",
       "      <th></th>\n",
       "      <th></th>\n",
       "      <th></th>\n",
       "      <th></th>\n",
       "    </tr>\n",
       "  </thead>\n",
       "  <tbody>\n",
       "    <tr>\n",
       "      <th>Representative region</th>\n",
       "      <td>Gulf of Mexico (west portion of Call Area)</td>\n",
       "      <td>Central Atlantic (Call Area E)</td>\n",
       "      <td>New York Bight (Bright Wind Holdings Lease)</td>\n",
       "      <td>California (Humboldt Lease Area)</td>\n",
       "      <td>NaN</td>\n",
       "    </tr>\n",
       "    <tr>\n",
       "      <th>Representative coordinates</th>\n",
       "      <td>27.18624, -96.9516</td>\n",
       "      <td>37.48358, -73.72925</td>\n",
       "      <td>39.53852, -73.1956</td>\n",
       "      <td>40.95078, -124.63619</td>\n",
       "      <td>Just in case we want to pull wind resource dat...</td>\n",
       "    </tr>\n",
       "    <tr>\n",
       "      <th>Substructure technology</th>\n",
       "      <td>Fixed - Monopile</td>\n",
       "      <td>Floating - semisubmersible</td>\n",
       "      <td>Fixed - Monopile</td>\n",
       "      <td>Floating - semisubmersible</td>\n",
       "      <td>Jackets could be the preferred fixed technolog...</td>\n",
       "    </tr>\n",
       "    <tr>\n",
       "      <th>Plant capacity</th>\n",
       "      <td>1008 MW</td>\n",
       "      <td>1008 MW</td>\n",
       "      <td>1008 MW</td>\n",
       "      <td>1008 MW</td>\n",
       "      <td>84 turbines</td>\n",
       "    </tr>\n",
       "    <tr>\n",
       "      <th>Turbine rating</th>\n",
       "      <td>12 MW</td>\n",
       "      <td>12 MW</td>\n",
       "      <td>12 MW</td>\n",
       "      <td>12 MW</td>\n",
       "      <td>NaN</td>\n",
       "    </tr>\n",
       "    <tr>\n",
       "      <th>Turbine layout</th>\n",
       "      <td>7D x 7D square grid</td>\n",
       "      <td>7D x 7D square grid</td>\n",
       "      <td>7D x 7D square grid</td>\n",
       "      <td>7D x 7D square grid</td>\n",
       "      <td>simplistic</td>\n",
       "    </tr>\n",
       "    <tr>\n",
       "      <th>Approx. water depth</th>\n",
       "      <td>45 m</td>\n",
       "      <td>2000 m</td>\n",
       "      <td>40 m</td>\n",
       "      <td>850 m</td>\n",
       "      <td>NaN</td>\n",
       "    </tr>\n",
       "    <tr>\n",
       "      <th>Approx. distance to port</th>\n",
       "      <td>80 km</td>\n",
       "      <td>110 km</td>\n",
       "      <td>100 km</td>\n",
       "      <td>55 km</td>\n",
       "      <td>NaN</td>\n",
       "    </tr>\n",
       "    <tr>\n",
       "      <th>Approx. distance to export cable landfall</th>\n",
       "      <td>85 km</td>\n",
       "      <td>110 km</td>\n",
       "      <td>80 km</td>\n",
       "      <td>45 km</td>\n",
       "      <td>NaN</td>\n",
       "    </tr>\n",
       "    <tr>\n",
       "      <th>Export cable voltage</th>\n",
       "      <td>220 kV</td>\n",
       "      <td>220 kV</td>\n",
       "      <td>220 kV</td>\n",
       "      <td>220 kV</td>\n",
       "      <td>NaN</td>\n",
       "    </tr>\n",
       "    <tr>\n",
       "      <th>Array cable voltage</th>\n",
       "      <td>66kV</td>\n",
       "      <td>66kV</td>\n",
       "      <td>66kV</td>\n",
       "      <td>66kV</td>\n",
       "      <td>NaN</td>\n",
       "    </tr>\n",
       "    <tr>\n",
       "      <th>ORCA mean wind speed (100m WTK)</th>\n",
       "      <td>8.8 m/s</td>\n",
       "      <td>None</td>\n",
       "      <td>~9.15 m/s</td>\n",
       "      <td>~10</td>\n",
       "      <td>NY Bight was 9-9.25 m/s</td>\n",
       "    </tr>\n",
       "    <tr>\n",
       "      <th>ORCA GCF</th>\n",
       "      <td>0.556</td>\n",
       "      <td>None</td>\n",
       "      <td>0.554</td>\n",
       "      <td>0.531</td>\n",
       "      <td>I don't believe this is CA20</td>\n",
       "    </tr>\n",
       "    <tr>\n",
       "      <th>Assumed NCF</th>\n",
       "      <td>NaN</td>\n",
       "      <td>NaN</td>\n",
       "      <td>NaN</td>\n",
       "      <td>NaN</td>\n",
       "      <td>Constant 16.7% loss</td>\n",
       "    </tr>\n",
       "    <tr>\n",
       "      <th>ORCA Port</th>\n",
       "      <td>Gulf Marine Fabricators</td>\n",
       "      <td>Ocean City</td>\n",
       "      <td>Brooklyn Marine Terminal</td>\n",
       "      <td>Humboldt Bay</td>\n",
       "      <td>NaN</td>\n",
       "    </tr>\n",
       "    <tr>\n",
       "      <th>NaN</th>\n",
       "      <td>NaN</td>\n",
       "      <td>NaN</td>\n",
       "      <td>NaN</td>\n",
       "      <td>NaN</td>\n",
       "      <td>NaN</td>\n",
       "    </tr>\n",
       "    <tr>\n",
       "      <th>Costs</th>\n",
       "      <td>Site 1</td>\n",
       "      <td>Site 2</td>\n",
       "      <td>Site 3</td>\n",
       "      <td>Site 4</td>\n",
       "      <td>NaN</td>\n",
       "    </tr>\n",
       "    <tr>\n",
       "      <th>NaN</th>\n",
       "      <td>NaN</td>\n",
       "      <td>NaN</td>\n",
       "      <td>NaN</td>\n",
       "      <td>NaN</td>\n",
       "      <td>NaN</td>\n",
       "    </tr>\n",
       "    <tr>\n",
       "      <th>Fixed charge rate (nominal)</th>\n",
       "      <td>0.0764</td>\n",
       "      <td>0.0764</td>\n",
       "      <td>0.0764</td>\n",
       "      <td>0.0764</td>\n",
       "      <td>From 2020 COE Review. There could be a case fo...</td>\n",
       "    </tr>\n",
       "    <tr>\n",
       "      <th>Fixed charge rate (real)</th>\n",
       "      <td>0.0582</td>\n",
       "      <td>0.0582</td>\n",
       "      <td>0.0582</td>\n",
       "      <td>0.0582</td>\n",
       "      <td>From 2020 COE Review. The argument the ATB mad...</td>\n",
       "    </tr>\n",
       "    <tr>\n",
       "      <th>NaN</th>\n",
       "      <td>NaN</td>\n",
       "      <td>NaN</td>\n",
       "      <td>NaN</td>\n",
       "      <td>NaN</td>\n",
       "      <td>NaN</td>\n",
       "    </tr>\n",
       "  </tbody>\n",
       "</table>\n",
       "</div>"
      ],
      "text/plain": [
       "                                                                               Site 1  \\\n",
       "Parameter                                                                               \n",
       "Representative region                      Gulf of Mexico (west portion of Call Area)   \n",
       "Representative coordinates                                         27.18624, -96.9516   \n",
       "Substructure technology                                              Fixed - Monopile   \n",
       "Plant capacity                                                                1008 MW   \n",
       "Turbine rating                                                                  12 MW   \n",
       "Turbine layout                                                    7D x 7D square grid   \n",
       "Approx. water depth                                                              45 m   \n",
       "Approx. distance to port                                                        80 km   \n",
       "Approx. distance to export cable landfall                                       85 km   \n",
       "Export cable voltage                                                           220 kV   \n",
       "Array cable voltage                                                              66kV   \n",
       "ORCA mean wind speed (100m WTK)                                               8.8 m/s   \n",
       "ORCA GCF                                                                        0.556   \n",
       "Assumed NCF                                                                       NaN   \n",
       "ORCA Port                                                     Gulf Marine Fabricators   \n",
       "NaN                                                                               NaN   \n",
       "Costs                                                                          Site 1   \n",
       "NaN                                                                               NaN   \n",
       "Fixed charge rate (nominal)                                                    0.0764   \n",
       "Fixed charge rate (real)                                                       0.0582   \n",
       "NaN                                                                               NaN   \n",
       "\n",
       "                                                                   Site 2  \\\n",
       "Parameter                                                                   \n",
       "Representative region                      Central Atlantic (Call Area E)   \n",
       "Representative coordinates                            37.48358, -73.72925   \n",
       "Substructure technology                        Floating - semisubmersible   \n",
       "Plant capacity                                                    1008 MW   \n",
       "Turbine rating                                                      12 MW   \n",
       "Turbine layout                                        7D x 7D square grid   \n",
       "Approx. water depth                                                2000 m   \n",
       "Approx. distance to port                                           110 km   \n",
       "Approx. distance to export cable landfall                          110 km   \n",
       "Export cable voltage                                               220 kV   \n",
       "Array cable voltage                                                  66kV   \n",
       "ORCA mean wind speed (100m WTK)                                      None   \n",
       "ORCA GCF                                                             None   \n",
       "Assumed NCF                                                           NaN   \n",
       "ORCA Port                                                      Ocean City   \n",
       "NaN                                                                   NaN   \n",
       "Costs                                                              Site 2   \n",
       "NaN                                                                   NaN   \n",
       "Fixed charge rate (nominal)                                        0.0764   \n",
       "Fixed charge rate (real)                                           0.0582   \n",
       "NaN                                                                   NaN   \n",
       "\n",
       "                                                                                Site 3  \\\n",
       "Parameter                                                                                \n",
       "Representative region                      New York Bight (Bright Wind Holdings Lease)   \n",
       "Representative coordinates                                          39.53852, -73.1956   \n",
       "Substructure technology                                               Fixed - Monopile   \n",
       "Plant capacity                                                                 1008 MW   \n",
       "Turbine rating                                                                   12 MW   \n",
       "Turbine layout                                                     7D x 7D square grid   \n",
       "Approx. water depth                                                               40 m   \n",
       "Approx. distance to port                                                        100 km   \n",
       "Approx. distance to export cable landfall                                        80 km   \n",
       "Export cable voltage                                                            220 kV   \n",
       "Array cable voltage                                                               66kV   \n",
       "ORCA mean wind speed (100m WTK)                                              ~9.15 m/s   \n",
       "ORCA GCF                                                                         0.554   \n",
       "Assumed NCF                                                                        NaN   \n",
       "ORCA Port                                                     Brooklyn Marine Terminal   \n",
       "NaN                                                                                NaN   \n",
       "Costs                                                                           Site 3   \n",
       "NaN                                                                                NaN   \n",
       "Fixed charge rate (nominal)                                                     0.0764   \n",
       "Fixed charge rate (real)                                                        0.0582   \n",
       "NaN                                                                                NaN   \n",
       "\n",
       "                                                                     Site 4  \\\n",
       "Parameter                                                                     \n",
       "Representative region                      California (Humboldt Lease Area)   \n",
       "Representative coordinates                             40.95078, -124.63619   \n",
       "Substructure technology                          Floating - semisubmersible   \n",
       "Plant capacity                                                      1008 MW   \n",
       "Turbine rating                                                        12 MW   \n",
       "Turbine layout                                          7D x 7D square grid   \n",
       "Approx. water depth                                                   850 m   \n",
       "Approx. distance to port                                              55 km   \n",
       "Approx. distance to export cable landfall                             45 km   \n",
       "Export cable voltage                                                 220 kV   \n",
       "Array cable voltage                                                    66kV   \n",
       "ORCA mean wind speed (100m WTK)                                         ~10   \n",
       "ORCA GCF                                                              0.531   \n",
       "Assumed NCF                                                             NaN   \n",
       "ORCA Port                                                      Humboldt Bay   \n",
       "NaN                                                                     NaN   \n",
       "Costs                                                                Site 4   \n",
       "NaN                                                                     NaN   \n",
       "Fixed charge rate (nominal)                                          0.0764   \n",
       "Fixed charge rate (real)                                             0.0582   \n",
       "NaN                                                                     NaN   \n",
       "\n",
       "                                                                                       Notes  \n",
       "Parameter                                                                                     \n",
       "Representative region                                                                    NaN  \n",
       "Representative coordinates                 Just in case we want to pull wind resource dat...  \n",
       "Substructure technology                    Jackets could be the preferred fixed technolog...  \n",
       "Plant capacity                                                                   84 turbines  \n",
       "Turbine rating                                                                           NaN  \n",
       "Turbine layout                                                                    simplistic  \n",
       "Approx. water depth                                                                      NaN  \n",
       "Approx. distance to port                                                                 NaN  \n",
       "Approx. distance to export cable landfall                                                NaN  \n",
       "Export cable voltage                                                                     NaN  \n",
       "Array cable voltage                                                                      NaN  \n",
       "ORCA mean wind speed (100m WTK)                                      NY Bight was 9-9.25 m/s  \n",
       "ORCA GCF                                                        I don't believe this is CA20  \n",
       "Assumed NCF                                                              Constant 16.7% loss  \n",
       "ORCA Port                                                                                NaN  \n",
       "NaN                                                                                      NaN  \n",
       "Costs                                                                                    NaN  \n",
       "NaN                                                                                      NaN  \n",
       "Fixed charge rate (nominal)                From 2020 COE Review. There could be a case fo...  \n",
       "Fixed charge rate (real)                   From 2020 COE Review. The argument the ATB mad...  \n",
       "NaN                                                                                      NaN  "
      ]
     },
     "execution_count": 70,
     "metadata": {},
     "output_type": "execute_result"
    }
   ],
   "source": [
    "scenario = dict()\n",
    "kw_continuous = electrolyzer_size * 1000\n",
    "load = [kw_continuous for x in\n",
    "        range(0, 8760)]  # * (sin(x) + pi) Set desired/required load profile for plant\n",
    "\n",
    "# Load Excel file of scenarios\n",
    "import pandas as pd\n",
    "path = ('examples/H2_Analysis/OSW_H2_sites_and_costs.xlsx')\n",
    "xl = pd.ExcelFile(path)\n",
    "print(xl.sheet_names)\n",
    "scenario_df = xl.parse('Sheet1')\n",
    "scenario_df.set_index([\"Parameter\"], inplace = True)\n",
    "\n",
    "\n",
    "scenario_choice = 'Offshore Wind-H2 Analysis'\n",
    "site_name = 'New York Offshore Fixed'\n",
    "distance_from_shore = 10 #km\n",
    "sample_site['lat'] = 39.532\n",
    "sample_site['lon'] = -73.5\n",
    "lat = sample_site['lat']\n",
    "lon = sample_site['lon']\n",
    "atb_year = 2025\n",
    "ptc_avail = 'yes'\n",
    "itc_avail = 'no'\n",
    "discount_rate = 0.07\n",
    "forced_sizes = True\n",
    "force_electrolyzer_cost = True\n",
    "forced_wind_size = 100\n",
    "forced_solar_size = 1\n",
    "forced_storage_size_mw = 1\n",
    "forced_storage_size_mwh = 1\n",
    "forced_electrolyzer_cost = 400\n",
    "\n",
    "solar_cost_kw = 9999\n",
    "storage_cost_kw = 250\n",
    "storage_cost_kwh = 240\n",
    "debt_equity_split = 60\n",
    "\n",
    "# sell_price = 0.01\n",
    "# buy_price = 0.05\n",
    "\n",
    "sell_price = False\n",
    "buy_price = False\n",
    "\n",
    "\n",
    "site = SiteInfo(sample_site, hub_height=tower_height)\n",
    "\n",
    "scenario['Useful Life'] = useful_life\n",
    "scenario['Debt Equity'] = debt_equity_split\n",
    "scenario['PTC Available'] = ptc_avail\n",
    "scenario['ITC Available'] = itc_avail\n",
    "scenario['Discount Rate'] = discount_rate\n",
    "scenario['Tower Height'] = tower_height\n",
    "scenario['Powercurve File'] = custom_powercurve_path\n",
    "\n",
    "print(\"Powercurve Path: \", custom_powercurve_path)\n",
    "scenario_df[0:21]"
   ]
  },
  {
   "cell_type": "markdown",
   "metadata": {},
   "source": [
    "## Step 2c: Display Future Cost Reduction Estimates\n",
    "\n"
   ]
  },
  {
   "cell_type": "code",
   "execution_count": 7,
   "metadata": {},
   "outputs": [
    {
     "name": "stdout",
     "output_type": "stream",
     "text": [
      "For fixed wind in 2025, capex reduction is estimated to be: 11.50%, opex reduction is: 8.25%, and net capacity factor increase is: 2.63%.\n"
     ]
    }
   ],
   "source": [
    "# Floating Wind Cost Reductions\n",
    "parent_path = os.path.abspath('')\n",
    "floating_cost_reductions_df = pd.read_csv(os.path.join(parent_path,'examples/H2_Analysis/floating_cost_reductions.csv'))\n",
    "\n",
    "# Fixed Wind Cost Reductions\n",
    "fixed_cost_reductions_df = pd.read_csv(os.path.join(parent_path,'examples/H2_Analysis/fixed_cost_reductions.csv'))\n",
    "\n",
    "if fixed_or_floating_wind == 'fixed':\n",
    "    capex_reduction = fixed_cost_reductions_df[str(atb_year)][0]\n",
    "    opex_reduction = fixed_cost_reductions_df[str(atb_year)][1]\n",
    "    net_cf_increase = fixed_cost_reductions_df[str(atb_year)][2]\n",
    "elif fixed_or_floating_wind == 'floating':\n",
    "    capex_reduction = floating_cost_reductions_df[str(atb_year)][0]\n",
    "    opex_reduction = floating_cost_reductions_df[str(atb_year)][1]\n",
    "    net_cf_increase = floating_cost_reductions_df[str(atb_year)][2]\n",
    "\n",
    "print(\"For {} wind in {}, capex reduction is estimated to be: {}, opex reduction is: {}, and net capacity factor increase is: {}.\".format(fixed_or_floating_wind, str(atb_year), capex_reduction, opex_reduction, net_cf_increase))"
   ]
  },
  {
   "cell_type": "markdown",
   "metadata": {},
   "source": [
    "# Step 2d: Display Turbine and Plant Cost Scaling Estimates"
   ]
  },
  {
   "cell_type": "markdown",
   "metadata": {},
   "source": [
    "##### Estimates From: \"Impacts of turbine and plant upsizing on the levelized cost of energy for offshore wind\" -  Shields et. Al 2021"
   ]
  },
  {
   "cell_type": "code",
   "execution_count": 8,
   "metadata": {},
   "outputs": [],
   "source": [
    "# Inputs: Turbine Rating and Design, Plant Capacity, Plant Layout."
   ]
  },
  {
   "cell_type": "markdown",
   "metadata": {},
   "source": [
    "# Step 3: Set up HOPP run"
   ]
  },
  {
   "cell_type": "code",
   "execution_count": 71,
   "metadata": {},
   "outputs": [
    {
     "name": "stdout",
     "output_type": "stream",
     "text": [
      "['test_BatteryStateful.py', 'tools', 'HOPP.egg-info', '.DS_Store', 'workspace.code-workspace', 'LICENSE', 'requirements.txt', '.pytest_cache', 'dist', 'onshore_h2_analysis.ipynb', 'tests', '__init__.py', '__pycache__', 'docs', '.readthedocs.yml', 'osw_h2_analysis.ipynb', 'README.md', 'RELEASE.md', 'setup.py', 'requirements-dev.txt', '.gitignore', '.env', 'examples', '.github', 'log', '.ipynb_checkpoints', 'resource_files', 'build', '.git', '.vscode', 'osw_h2_analysis_backup.ipynb', 'conda_build.sh', 'conda.recipe', 'hybrid', 'test_clustering.py', '.idea']\n",
      "File Extension:  .csv\n",
      "0      3\n",
      "1      4\n",
      "2      5\n",
      "3      6\n",
      "4      7\n",
      "5      8\n",
      "6      9\n",
      "7     10\n",
      "8     11\n",
      "9     12\n",
      "10    13\n",
      "11    14\n",
      "12    15\n",
      "13    16\n",
      "14    17\n",
      "15    18\n",
      "16    19\n",
      "17    20\n",
      "18    21\n",
      "19    22\n",
      "20    23\n",
      "21    24\n",
      "22    25\n",
      "Name: Wind Speed [m/s], dtype: int64\n"
     ]
    }
   ],
   "source": [
    "if forced_sizes:\n",
    "    solar_size_mw = forced_solar_size\n",
    "    wind_size_mw = forced_wind_size\n",
    "    storage_size_mw = forced_storage_size_mw\n",
    "    storage_size_mwh = forced_storage_size_mwh\n",
    "    storage_hours = 0\n",
    "\n",
    "\n",
    "technologies = {'pv':\n",
    "                    {'system_capacity_kw': solar_size_mw * 1000},\n",
    "                'wind':\n",
    "                    {'num_turbines': np.floor(wind_size_mw / turbine_rating_mw),\n",
    "                        'turbine_rating_kw': turbine_rating_mw*1000,\n",
    "                        'hub_height': tower_height,\n",
    "                        'rotor_diameter': rotor_diameter},\n",
    "                'battery': {\n",
    "                    'system_capacity_kwh': storage_size_mwh * 1000,\n",
    "                    'system_capacity_kw': storage_size_mw * 1000\n",
    "                    }\n",
    "                }\n",
    "\n",
    "hybrid_plant, combined_pv_wind_power_production_hopp, combined_pv_wind_curtailment_hopp,\\\n",
    "energy_shortfall_hopp, annual_energies, wind_plus_solar_npv, npvs, lcoe =  \\\n",
    "    hopp_for_h2(site, scenario, technologies,\n",
    "                wind_size_mw, solar_size_mw, storage_size_mw, storage_size_mwh, storage_hours,\n",
    "    wind_cost_kw, solar_cost_kw, storage_cost_kw, storage_cost_kwh,\n",
    "    kw_continuous, load,\n",
    "    custom_powercurve,\n",
    "    electrolyzer_size, grid_connected_hopp=True)\n",
    "\n",
    "wind_installed_cost = hybrid_plant.wind.total_installed_cost\n",
    "solar_installed_cost = hybrid_plant.pv.total_installed_cost\n",
    "hybrid_installed_cost = hybrid_plant.grid.total_installed_cost"
   ]
  },
  {
   "cell_type": "markdown",
   "metadata": {},
   "source": [
    "# Step 4: Plot HOPP Results"
   ]
  },
  {
   "cell_type": "code",
   "execution_count": 72,
   "metadata": {},
   "outputs": [
    {
     "data": {
      "image/png": "[encoded data removed]",
      "text/plain": [
       "<Figure size 288x288 with 1 Axes>"
      ]
     },
     "metadata": {
      "needs_background": "light"
     },
     "output_type": "display_data"
    },
    {
     "name": "stdout",
     "output_type": "stream",
     "text": [
      "Turbine Power Output (to identify powercurve impact): 419628059.10358447\n"
     ]
    }
   ],
   "source": [
    "if plot_power_production:\n",
    "    plt.figure(figsize=(4,4))\n",
    "    plt.title(\"HOPP power production\")\n",
    "    plt.plot(combined_pv_wind_power_production_hopp[200:300],label=\"wind + pv\")\n",
    "    plt.plot(energy_shortfall_hopp[200:300],label=\"shortfall\")\n",
    "    plt.plot(combined_pv_wind_curtailment_hopp[200:300],label=\"curtailment\")\n",
    "    plt.plot(load[200:300],label=\"electrolyzer rating\")\n",
    "    plt.xlabel(\"time (hour)\")\n",
    "    plt.ylabel(\"power production\")\n",
    "    # plt.ylim(0,250000)\n",
    "    plt.legend()\n",
    "    plt.tight_layout()\n",
    "    plt.show()\n",
    "\n",
    "print(\"Turbine Power Output (to identify powercurve impact):\", hybrid_plant.wind.annual_energy_kw)"
   ]
  },
  {
   "cell_type": "markdown",
   "metadata": {},
   "source": [
    "# Step 5: Run Simple Dispatch Model\n"
   ]
  },
  {
   "cell_type": "code",
   "execution_count": 74,
   "metadata": {},
   "outputs": [
    {
     "data": {
      "image/png": "[encoded data removed]",
      "text/plain": [
       "<Figure size 504x288 with 2 Axes>"
      ]
     },
     "metadata": {
      "needs_background": "light"
     },
     "output_type": "display_data"
    },
    {
     "data": {
      "image/png": "[encoded data removed]",
      "text/plain": [
       "<Figure size 432x288 with 1 Axes>"
      ]
     },
     "metadata": {
      "needs_background": "light"
     },
     "output_type": "display_data"
    }
   ],
   "source": [
    "bat_model = SimpleDispatch()\n",
    "bat_model.Nt = len(energy_shortfall_hopp)\n",
    "bat_model.curtailment = combined_pv_wind_curtailment_hopp\n",
    "bat_model.shortfall = energy_shortfall_hopp\n",
    "\n",
    "bat_model.battery_storage = storage_size_mwh * 1000\n",
    "bat_model.charge_rate = storage_size_mw * 1000\n",
    "bat_model.discharge_rate = storage_size_mw * 1000\n",
    "\n",
    "battery_used, excess_energy, battery_SOC = bat_model.run()\n",
    "combined_pv_wind_storage_power_production_hopp = combined_pv_wind_power_production_hopp + battery_used\n",
    "\n",
    "if plot_battery:\n",
    "    plt.figure(figsize=(7,4))\n",
    "    plt.subplot(121)\n",
    "    plt.plot(combined_pv_wind_curtailment_hopp[200:300],label=\"curtailment\")\n",
    "    plt.plot(energy_shortfall_hopp[200:300],label=\"shortfall\")\n",
    "    plt.plot(battery_SOC[200:300],label=\"state of charge\")\n",
    "    # plt.ylim(0,350000)\n",
    "    # plt.plot(excess_energy[200:300],label=\"excess\")\n",
    "    plt.plot(battery_used[200:300],\"--\",label=\"battery used\")\n",
    "    plt.legend()\n",
    "\n",
    "    plt.subplot(122)\n",
    "    plt.plot(combined_pv_wind_storage_power_production_hopp[200:300],label=\"wind+pv+storage\")\n",
    "    plt.plot(combined_pv_wind_power_production_hopp[200:300],\"--\",label=\"wind+pv\")\n",
    "    plt.plot(load[200:300],\"--\",label=\"electrolyzer rating\")\n",
    "    # plt.ylim(0,225000)\n",
    "\n",
    "    plt.legend()\n",
    "    plt.suptitle(\"battery dispatch\")\n",
    "    plt.tight_layout()\n",
    "\n",
    "    plt.show()\n",
    "\n",
    "if plot_grid:\n",
    "    plt.plot(combined_pv_wind_storage_power_production_hopp[200:300],label=\"before buy from grid\")\n",
    "    plt.suptitle(\"Power Signal Before Purchasing From Grid\")\n",
    "\n",
    "if sell_price:\n",
    "    profit_from_selling_to_grid = np.sum(excess_energy)*sell_price\n",
    "else:\n",
    "    profit_from_selling_to_grid = 0.0\n",
    "\n",
    "# buy_price = False # if you want to force no buy from grid\n",
    "if buy_price:\n",
    "    cost_to_buy_from_grid = 0.0\n",
    "\n",
    "    for i in range(len(combined_pv_wind_storage_power_production_hopp)):\n",
    "        if combined_pv_wind_storage_power_production_hopp[i] < kw_continuous:\n",
    "            cost_to_buy_from_grid += (kw_continuous-combined_pv_wind_storage_power_production_hopp[i])*buy_price\n",
    "            combined_pv_wind_storage_power_production_hopp[i] = kw_continuous\n",
    "else:\n",
    "    cost_to_buy_from_grid = 0.0\n",
    "\n",
    "energy_to_electrolyzer = [x if x < kw_continuous else kw_continuous for x in combined_pv_wind_storage_power_production_hopp]\n",
    "\n"
   ]
  },
  {
   "cell_type": "markdown",
   "metadata": {},
   "source": [
    "### Plot Dispatch Results"
   ]
  },
  {
   "cell_type": "code",
   "execution_count": 87,
   "metadata": {},
   "outputs": [
    {
     "data": {
      "image/png": "[encoded data removed]",
      "text/plain": [
       "<Figure size 432x288 with 1 Axes>"
      ]
     },
     "metadata": {
      "needs_background": "light"
     },
     "output_type": "display_data"
    }
   ],
   "source": [
    "\n",
    "if plot_grid:\n",
    "    plt.plot(combined_pv_wind_storage_power_production_hopp[200:300],\"--\",label=\"after buy from grid\")\n",
    "    plt.plot(energy_to_electrolyzer[200:300],\"--\",label=\"energy to electrolyzer\")\n",
    "    plt.legend()\n",
    "    plt.show()\n",
    "\n"
   ]
  },
  {
   "cell_type": "markdown",
   "metadata": {},
   "source": [
    "# Step 6: Run the H2_PEM model"
   ]
  },
  {
   "cell_type": "code",
   "execution_count": 89,
   "metadata": {},
   "outputs": [
    {
     "name": "stdout",
     "output_type": "stream",
     "text": [
      "Total power input to electrolyzer: 421174242.0348263\n",
      "Hydrogen Annual Output (kg): 7252018.257040016\n",
      "Water Consumption (kg) Total: 72520182.57039887\n"
     ]
    },
    {
     "data": {
      "image/png": "[encoded data removed]",
      "text/plain": [
       "<Figure size 432x288 with 1 Axes>"
      ]
     },
     "metadata": {
      "needs_background": "light"
     },
     "output_type": "display_data"
    }
   ],
   "source": [
    "#TODO: Refactor H2A model call\n",
    "# Should take as input (electrolyzer size, cost, electrical timeseries, total system electrical usage (kwh/kg),\n",
    "# Should give as ouptut (h2 costs by net cap cost, levelized, total_unit_cost of hydrogen etc)   )\n",
    "\n",
    "# electrical_generation_timeseries = combined_pv_wind_storage_power_production_hopp\n",
    "electrical_generation_timeseries = np.zeros_like(energy_to_electrolyzer)\n",
    "electrical_generation_timeseries[:] = energy_to_electrolyzer[:]\n",
    "\n",
    "adjusted_installed_cost = hybrid_plant.grid._financial_model.Outputs.adjusted_installed_cost\n",
    "#NB: adjusted_installed_cost does NOT include the electrolyzer cost\n",
    "useful_life = scenario['Useful Life']\n",
    "net_capital_costs = 0\n",
    "\n",
    "# system_rating = electrolyzer_size\n",
    "system_rating = wind_size_mw + solar_size_mw\n",
    "H2_Results, H2A_Results = run_h2_PEM.run_h2_PEM(electrical_generation_timeseries,electrolyzer_size,\n",
    "                kw_continuous,forced_electrolyzer_cost,lcoe,adjusted_installed_cost,useful_life,\n",
    "                net_capital_costs)\n",
    "\n",
    "\n",
    "H2_Results['hydrogen_annual_output'] = H2_Results['hydrogen_annual_output']\n",
    "\n",
    "print(\"Total power input to electrolyzer: {}\".format(np.sum(electrical_generation_timeseries)))\n",
    "print(\"Hydrogen Annual Output (kg): {}\".format(H2_Results['hydrogen_annual_output']))\n",
    "print(\"Water Consumption (kg) Total: {}\".format(H2_Results['water_annual_usage']))\n",
    "\n",
    "plt.plot(H2_Results['water_hourly_usage'][200:300],\"--\",label=\"Hourly Water Usage\")\n",
    "#     plt.plot(energy_to_electrolyzer[200:300],\"--\",label=\"energy to electrolyzer\")\n",
    "plt.legend()\n",
    "plt.title('Hourly Water Usage Snapshot \\n' 'Total Annual Water Usage: {0:,.0f}kg'.format(H2_Results['water_annual_usage']))\n",
    "plt.show()\n"
   ]
  },
  {
   "cell_type": "markdown",
   "metadata": {},
   "source": [
    "# Step 6b: Run desal model"
   ]
  },
  {
   "cell_type": "code",
   "execution_count": 90,
   "metadata": {
    "scrolled": true
   },
   "outputs": [
    {
     "name": "stdout",
     "output_type": "stream",
     "text": [
      "Max power allowed by system:  52.75675675675676 kW\n",
      "For 100MW Electrolyzer, implementing 18.01801801801802m^3/hr desal system\n",
      "Estimated constant desal power usage 0.053MW\n",
      "Desal System CAPEX ($): 164,140.73\n",
      "Desal System OPEX ($): 24,156.54\n",
      "Total Annual Feedwater Required (m^3): 310,808.03\n"
     ]
    },
    {
     "data": {
      "image/png": "[encoded data removed]",
      "text/plain": [
       "<Figure size 432x288 with 1 Axes>"
      ]
     },
     "metadata": {
      "needs_background": "light"
     },
     "output_type": "display_data"
    }
   ],
   "source": [
    "from examples.H2_Analysis.desal_model import RO_desal\n",
    "\n",
    "\n",
    "water_usage_electrolyzer = H2_Results['water_hourly_usage']\n",
    "m3_water_per_kg_h2 = 0.01\n",
    "desal_system_size_m3_hr = electrolyzer_size * (1000/55.5) * m3_water_per_kg_h2\n",
    "est_const_desal_power_mw_hr = desal_system_size_m3_hr * 2.928 /1000 # 4kWh/m^3 desal efficiency estimate\n",
    "Power = [(est_const_desal_power_mw_hr) * 1000 for x in range(0, 8760)]\n",
    "fresh_water_flowrate, feed_water_flowrate, desal_capex, desal_opex = RO_desal(Power, desal_system_size_m3_hr)\n",
    "print(\"For {}MW Electrolyzer, implementing {}m^3/hr desal system\".format(electrolyzer_size, desal_system_size_m3_hr))\n",
    "print(\"Estimated constant desal power usage {0:.3f}MW\".format(est_const_desal_power_mw_hr))\n",
    "print(\"Desal System CAPEX ($): {0:,.02f}\".format(desal_capex))\n",
    "print(\"Desal System OPEX ($): {0:,.02f}\".format(desal_opex))\n",
    "# print(\"Freshwater Flowrate (m^3/hr): {}\".format(fresh_water_flowrate))\n",
    "print(\"Total Annual Feedwater Required (m^3): {0:,.02f}\".format(np.sum(feed_water_flowrate)))\n",
    "\n",
    "plt.plot(fresh_water_flowrate[200:300],\"--\",label=\"Freshwater flowrate from desal\")\n",
    "plt.plot(feed_water_flowrate[200:300],\"--\",label=\"Feedwater flowrate to desal\")\n",
    "plt.legend()\n",
    "plt.title('Freshwater flowrate (m^3/hr) from desal  (Snapshot)'.format(fresh_water_flowrate))\n",
    "plt.show()"
   ]
  },
  {
   "cell_type": "markdown",
   "metadata": {},
   "source": [
    "## \\*INSERT Pressure Vessel Model Here\\*"
   ]
  },
  {
   "cell_type": "code",
   "execution_count": 91,
   "metadata": {},
   "outputs": [
    {
     "ename": "ModuleNotFoundError",
     "evalue": "No module named 'CoolProp'",
     "output_type": "error",
     "traceback": [
      "\u001b[0;31m---------------------------------------------------------------------------\u001b[0m",
      "\u001b[0;31mModuleNotFoundError\u001b[0m                       Traceback (most recent call last)",
      "Input \u001b[0;32mIn [91]\u001b[0m, in \u001b[0;36m<cell line: 1>\u001b[0;34m()\u001b[0m\n\u001b[0;32m----> 1\u001b[0m \u001b[38;5;28;01mfrom\u001b[39;00m \u001b[38;5;21;01mexamples\u001b[39;00m\u001b[38;5;21;01m.\u001b[39;00m\u001b[38;5;21;01mH2_Analysis\u001b[39;00m\u001b[38;5;21;01m.\u001b[39;00m\u001b[38;5;21;01mpressure_vessel_model\u001b[39;00m \u001b[38;5;28;01mimport\u001b[39;00m pressure_vessel\n",
      "File \u001b[0;32m~/Desktop/Hybrid Model/Code/HOPP_Private/examples/H2_Analysis/pressure_vessel_model.py:23\u001b[0m, in \u001b[0;36m<module>\u001b[0;34m\u001b[0m\n\u001b[1;32m      1\u001b[0m \u001b[38;5;124;03m\"\"\"\u001b[39;00m\n\u001b[1;32m      2\u001b[0m \u001b[38;5;124;03mPython Model of Hydrogen Pressure Vessel\u001b[39;00m\n\u001b[1;32m      3\u001b[0m \n\u001b[0;32m   (...)\u001b[0m\n\u001b[1;32m     21\u001b[0m \u001b[38;5;124;03m- CAPEX and OPEX decrease with economy of scale\u001b[39;00m\n\u001b[1;32m     22\u001b[0m \u001b[38;5;124;03m\"\"\"\u001b[39;00m\n\u001b[0;32m---> 23\u001b[0m \u001b[38;5;28;01mimport\u001b[39;00m \u001b[38;5;21;01mCoolProp\u001b[39;00m\u001b[38;5;21;01m.\u001b[39;00m\u001b[38;5;21;01mCoolProp\u001b[39;00m \u001b[38;5;28;01mas\u001b[39;00m \u001b[38;5;21;01mCP\u001b[39;00m\n\u001b[1;32m     24\u001b[0m \u001b[38;5;28;01mimport\u001b[39;00m \u001b[38;5;21;01mnumpy\u001b[39;00m \u001b[38;5;28;01mas\u001b[39;00m \u001b[38;5;21;01mnp\u001b[39;00m\n\u001b[1;32m     25\u001b[0m \u001b[38;5;28;01mimport\u001b[39;00m \u001b[38;5;21;01mmath\u001b[39;00m\n",
      "\u001b[0;31mModuleNotFoundError\u001b[0m: No module named 'CoolProp'"
     ]
    }
   ],
   "source": [
    "from examples.H2_Analysis.stat import pressure_vessel"
   ]
  },
  {
   "cell_type": "markdown",
   "metadata": {},
   "source": [
    "### Plot H2 Results"
   ]
  },
  {
   "cell_type": "code",
   "execution_count": null,
   "metadata": {},
   "outputs": [],
   "source": [
    "if plot_h2:\n",
    "    hydrogen_hourly_production = H2_Results['hydrogen_hourly_production']\n",
    "    plt.figure(figsize=(6,3))\n",
    "\n",
    "    plt.subplot(121)\n",
    "    plt.plot(electrical_generation_timeseries[200:300])\n",
    "    plt.ylim(0,max(electrical_generation_timeseries[200:300])*1.2)\n",
    "    plt.plot(load[200:300],label=\"electrolyzer rating\")\n",
    "    plt.title(\"energy to electrolyzer\")\n",
    "\n",
    "    plt.subplot(122)\n",
    "    plt.plot(hydrogen_hourly_production[200:300])\n",
    "    plt.ylim(0,max(hydrogen_hourly_production[200:300])*1.2)\n",
    "    plt.title(\"hydrogen production\")\n",
    "\n",
    "    plt.tight_layout()\n",
    "    plt.show()"
   ]
  },
  {
   "cell_type": "markdown",
   "metadata": {},
   "source": [
    "# Step 6.5: Intermediate financial calculation"
   ]
  },
  {
   "cell_type": "code",
   "execution_count": null,
   "metadata": {},
   "outputs": [],
   "source": [
    "total_elec_production = np.sum(electrical_generation_timeseries) #REMOVE\n",
    "total_hopp_installed_cost = hybrid_plant.grid._financial_model.SystemCosts.total_installed_cost\n",
    "total_electrolyzer_cost = H2A_Results['scaled_total_installed_cost']\n",
    "total_system_installed_cost = total_hopp_installed_cost + total_electrolyzer_cost\n",
    "annual_operating_cost_hopp = (wind_size_mw * 1000 * 42) + (solar_size_mw * 1000 * 13)\n",
    "annual_operating_cost_h2 = H2A_Results['Fixed O&M'] * H2_Results['hydrogen_annual_output']\n",
    "total_annual_operating_costs = annual_operating_cost_hopp + annual_operating_cost_h2 + cost_to_buy_from_grid - profit_from_selling_to_grid\n",
    "# h_lcoe_no_op_cost = lcoe_calc((H2_Results['hydrogen_annual_output']), total_system_installed_cost,\n",
    "#                    0, 0.07, useful_life)\n",
    "\n",
    "h_lcoe = lcoe_calc((H2_Results['hydrogen_annual_output']), total_system_installed_cost,\n",
    "                    total_annual_operating_costs, 0.07, useful_life)\n",
    "\n",
    "# Cashflow Financial Calculation (Not sure that this includes electrical prices)\n",
    "discount_rate = scenario['Discount Rate']\n",
    "cf_wind_annuals = hybrid_plant.wind._financial_model.Outputs.cf_annual_costs\n",
    "cf_solar_annuals = hybrid_plant.pv._financial_model.Outputs.cf_annual_costs\n",
    "cf_h2_annuals = H2A_Results['expenses_annual_cashflow'] # This might be unreliable. \n",
    "cf_df = pd.DataFrame([cf_wind_annuals, cf_solar_annuals, cf_h2_annuals[:len(cf_wind_annuals)]],['Wind', 'Solar', 'H2'])\n",
    "# parent_path = os.path.abspath('')\n",
    "# print(parent_path)\n",
    "results_dir = parent_path + '/examples/H2_Analysis/results/'\n",
    "cf_df.to_csv(os.path.join(results_dir, \"Annual Cashflows_{}_{}_{}_discount_{}.csv\".format(site_name, scenario_choice, atb_year, discount_rate)))\n",
    "\n",
    "#NPVs of wind, solar, H2\n",
    "\n",
    "npv_wind_costs = npf.npv(discount_rate, cf_wind_annuals)\n",
    "npv_solar_costs = npf.npv(discount_rate, cf_solar_annuals)\n",
    "npv_h2_costs = npf.npv(discount_rate, cf_h2_annuals)\n",
    "npv_total_costs = npv_wind_costs+npv_solar_costs+npv_h2_costs\n",
    "LCOH_cf_method = -npv_total_costs / (H2_Results['hydrogen_annual_output'] * useful_life)\n",
    "financial_summary_df = pd.DataFrame([scenario['Useful Life'], wind_cost_kw, solar_cost_kw, forced_electrolyzer_cost,\n",
    "                                        scenario['Debt Equity'], atb_year, ptc_avail, itc_avail,\n",
    "                                        discount_rate, npv_wind_costs, npv_solar_costs, npv_h2_costs, LCOH_cf_method],\n",
    "                                    ['Useful Life', 'Wind Cost KW', 'Solar Cost KW', 'Electrolyzer Cost KW', 'Debt Equity',\n",
    "                                        'ATB Year', 'PTC available', 'ITC available', 'Discount Rate', 'NPV Wind Expenses', 'NPV Solar Expenses', 'NPV H2 Expenses', 'LCOH cf method'])\n",
    "financial_summary_df.to_csv(os.path.join(results_dir, 'Financial Summary.csv'))\n",
    "\n",
    "# Gut Check H2 calculation (non-levelized)\n",
    "total_installed_and_operational_lifetime_cost = total_system_installed_cost + (30 * total_annual_operating_costs)\n",
    "lifetime_h2_production = 30 * H2_Results['hydrogen_annual_output']\n",
    "gut_check_h2_cost_kg = total_installed_and_operational_lifetime_cost / lifetime_h2_production"
   ]
  },
  {
   "cell_type": "markdown",
   "metadata": {},
   "source": [
    "# Step 7: Print  Results"
   ]
  },
  {
   "cell_type": "code",
   "execution_count": null,
   "metadata": {},
   "outputs": [],
   "source": [
    "print_results = False\n",
    "print_h2_results = True\n",
    "\n",
    "if print_results:\n",
    "    # ------------------------- #\n",
    "    #TODO: Tidy up these print statements\n",
    "    print(\"Future Scenario: {}\".format(scenario['Scenario Name']))\n",
    "    print(\"Wind Cost per KW: {}\".format(scenario['Wind Cost KW']))\n",
    "    print(\"PV Cost per KW: {}\".format(scenario['Solar Cost KW']))\n",
    "    print(\"Storage Cost per KW: {}\".format(scenario['Storage Cost kW']))\n",
    "    print(\"Storage Cost per KWh: {}\".format(scenario['Storage Cost kWh']))\n",
    "    print(\"Wind Size built: {}\".format(wind_size_mw))\n",
    "    print(\"PV Size built: {}\".format(solar_size_mw))\n",
    "    print(\"Storage Size built: {}\".format(storage_size_mw))\n",
    "    print(\"Storage Size built: {}\".format(storage_size_mwh))\n",
    "    print(\"Levelized cost of Electricity (HOPP): {}\".format(lcoe))\n",
    "    print(\"Total Yearly Electrical Output: {}\".format(total_elec_production))\n",
    "    print(\"Total Yearly Hydrogen Production: {}\".format(H2_Results['hydrogen_annual_output']))\n",
    "    print(\"Levelized Cost H2/kg (new method - no operational costs)\".format(h_lcoe_no_op_cost))\n",
    "    print(\"Capacity Factor of Electrolyzer: {}\".format(H2_Results['cap_factor']))\n",
    "\n",
    "if print_h2_results:\n",
    "    print('Total Lifetime H2(kg) produced: {}'.format(lifetime_h2_production))\n",
    "    print(\"Gut-check H2 cost/kg: {}\".format(gut_check_h2_cost_kg))\n",
    "    print(\"h_lcoe: \", h_lcoe)\n",
    "    print(\"LCOH CF Method (doesn't include elec)\", LCOH_cf_method)\n",
    "    # print(\"Levelized cost of H2 (electricity feedstock) (HOPP): {}\".format(\n",
    "    #     H2_Results['feedstock_cost_h2_levelized_hopp']))\n",
    "    # print(\"Levelized cost of H2 (excl. electricity) (H2A): {}\".format(H2A_Results['Total Hydrogen Cost ($/kgH2)']))\n",
    "    # print(\"Total unit cost of H2 ($/kg) : {}\".format(H2_Results['total_unit_cost_of_hydrogen']))\n",
    "    # print(\"kg H2 cost from net cap cost/lifetime h2 production (HOPP): {}\".format(\n",
    "    #     H2_Results['feedstock_cost_h2_via_net_cap_cost_lifetime_h2_hopp']))"
   ]
  },
  {
   "cell_type": "markdown",
   "metadata": {},
   "source": [
    "# Step 8: Plot Results"
   ]
  },
  {
   "cell_type": "markdown",
   "metadata": {},
   "source": [
    "# Step 9: Save Results"
   ]
  },
  {
   "cell_type": "code",
   "execution_count": null,
   "metadata": {},
   "outputs": [],
   "source": [
    "# Step 9: Plot HOPP Production, Curtailment, and Hydrogen Production Profiles\n",
    "# ------------------------- #\n",
    "#TODO: Place in function\n",
    "\n",
    "save_outputs_dict['Site Name'].append(site_name)\n",
    "save_outputs_dict['Scenario Choice'].append(scenario_choice)\n",
    "save_outputs_dict['Site Lat'].append(lat)\n",
    "save_outputs_dict['Site Lon'].append(lon)\n",
    "save_outputs_dict['ATB Year'].append(atb_year)\n",
    "save_outputs_dict['Resource Year'].append(resource_year)\n",
    "save_outputs_dict['Critical Load Factor'].append(critical_load_factor)\n",
    "save_outputs_dict['kW continuous load'].append(kw_continuous)\n",
    "save_outputs_dict['Useful Life'].append(useful_life)\n",
    "save_outputs_dict['PTC'].append(ptc_avail)\n",
    "save_outputs_dict['ITC'].append(itc_avail)\n",
    "save_outputs_dict['Discount Rate'].append(discount_rate)\n",
    "save_outputs_dict['Debt Equity'].append(debt_equity_split)\n",
    "save_outputs_dict['Hub Height (m)'].append(tower_height)\n",
    "save_outputs_dict['Storage Enabled'].append(storage_used)\n",
    "save_outputs_dict['Wind Cost kW'].append(wind_cost_kw)\n",
    "save_outputs_dict['Solar Cost kW'].append(solar_cost_kw)\n",
    "save_outputs_dict['Storage Cost kW'].append(storage_cost_kw)\n",
    "save_outputs_dict['Storage Cost kWh'].append(storage_cost_kwh)\n",
    "save_outputs_dict['Storage Hours'].append(storage_hours)\n",
    "save_outputs_dict['Wind MW built'].append(wind_size_mw)\n",
    "save_outputs_dict['Solar MW built'].append(solar_size_mw)\n",
    "save_outputs_dict['Storage MW built'].append(storage_size_mw)\n",
    "save_outputs_dict['Storage MWh built'].append(storage_size_mwh)\n",
    "save_outputs_dict['Battery Can Grid Charge'].append(battery_can_grid_charge)\n",
    "save_outputs_dict['Built Interconnection Size'].append(hybrid_plant.interconnect_kw)\n",
    "save_outputs_dict['Total Installed Cost $(HOPP)'].append(total_hopp_installed_cost)\n",
    "save_outputs_dict['Total Yearly Electrical Output'].append(total_elec_production)\n",
    "save_outputs_dict['LCOE'].append(lcoe)\n",
    "save_outputs_dict['Total Annual H2 production (kg)'].append(H2_Results['hydrogen_annual_output'])\n",
    "save_outputs_dict['Gut-Check Cost/kg H2 (non-levelized, includes elec if used)'].append(gut_check_h2_cost_kg)\n",
    "save_outputs_dict['Levelized Cost/kg H2 (lcoe using installed and operation costs)'].append(h_lcoe)\n",
    "save_outputs_dict['Levelized Cost/kg H2 (CF Method - using annual cashflows per technology)'].append(LCOH_cf_method)\n",
    "save_outputs_dict['Grid Connected HOPP'].append(grid_connected_hopp)\n",
    "save_outputs_dict['HOPP Total Generation'].append(np.sum(hybrid_plant.grid.generation_profile[0:8759]))\n",
    "save_outputs_dict['Wind Capacity Factor'].append(hybrid_plant.wind._system_model.Outputs.capacity_factor)\n",
    "save_outputs_dict['HOPP Energy Shortfall'].append(np.sum(energy_shortfall_hopp))\n",
    "save_outputs_dict['HOPP Curtailment'].append(np.sum(combined_pv_wind_curtailment_hopp))\n",
    "save_outputs_dict['Battery Generation'].append(np.sum(battery_used))\n",
    "save_outputs_dict['Electricity to Grid'].append(np.sum(excess_energy))\n",
    "save_outputs_dict['Electrolyzer Size'].append(H2A_Results['electrolyzer_size'])\n",
    "save_outputs_dict['Electrolyzer Total System Size'].append(H2A_Results['total_plant_size'])\n",
    "save_outputs_dict['H2A scaled total install cost'].append(H2A_Results['scaled_total_installed_cost'])\n",
    "save_outputs_dict['H2A scaled total install cost per kw'].append(H2A_Results['scaled_total_installed_cost_kw'])\n",
    "\n",
    "\n",
    "# save_all_runs = save_all_runs.append(save_outputs_dict, sort=False)\n",
    "# Create dataframe from outputs and save\n",
    "save_outputs = True\n",
    "if save_outputs:\n",
    "    save_outputs_dict_df = pd.DataFrame(save_outputs_dict)\n",
    "    save_outputs_dict_df.to_csv(os.path.join(results_dir, \"H2_Analysis_{}.csv\".format('Main')))\n",
    "    "
   ]
  },
  {
   "cell_type": "code",
   "execution_count": null,
   "metadata": {},
   "outputs": [],
   "source": []
  }
 ],
 "metadata": {
  "interpreter": {
   "hash": "e2a712f955cbd808e3cf6d421697ccc442b7e96bad96188fe3720e88187ee567"
  },
  "kernelspec": {
   "display_name": "Python 3 (ipykernel)",
   "language": "python",
   "name": "python3"
  },
  "language_info": {
   "codemirror_mode": {
    "name": "ipython",
    "version": 3
   },
   "file_extension": ".py",
   "mimetype": "text/x-python",
   "name": "python",
   "nbconvert_exporter": "python",
   "pygments_lexer": "ipython3",
   "version": "3.10.3"
  }
 },
 "nbformat": 4,
 "nbformat_minor": 2
}
